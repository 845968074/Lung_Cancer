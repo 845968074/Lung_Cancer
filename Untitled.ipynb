{
 "cells": [
  {
   "cell_type": "code",
   "execution_count": 1,
   "metadata": {
    "collapsed": false
   },
   "outputs": [],
   "source": [
    "import numpy as np\n",
    "# from data0 import ChunkLoader\n",
    "import settings\n",
    "import video\n",
    "import argparse, os\n",
    "# parser = argparse.ArgumentParser(description=\"data processing\")\n",
    "# # Parse the command line arguments\n",
    "# parser.add_argument('-tm', '--test_mode', action='store_true',\n",
    "#                     help='make predictions on test data')\n",
    "# args = parser.parse_args()\n",
    "\n"
   ]
  },
  {
   "cell_type": "code",
   "execution_count": 2,
   "metadata": {
    "collapsed": true
   },
   "outputs": [],
   "source": [
    "repo_dir = '/Users/chen.liu/nfs03/share_data/Intelligence/Scoupon/items/luna_vids/'\n"
   ]
  },
  {
   "cell_type": "code",
   "execution_count": 24,
   "metadata": {
    "collapsed": true
   },
   "outputs": [],
   "source": [
    "import logging\n",
    "import numpy as np\n",
    "import pandas as pd\n",
    "import os\n",
    "import video\n",
    "import settings\n",
    "\n",
    "\n",
    "class ChunkLoader():\n",
    "    def __init__(self, set_name, repo_dir, datum_dtype=np.uint8,\n",
    "                 nclasses=2, augment=False, test_mode=False):\n",
    "        # assert test_mode is False, 'Test mode not implemented yet'\n",
    "        np.random.seed(0)\n",
    "        self.set_name = set_name\n",
    "        # self.bsz = self.be.bsz\n",
    "        self.augment = augment\n",
    "        self.repo_dir = repo_dir\n",
    "        self.is_training = (set_name == 'train')\n",
    "        self.chunk_size = settings.chunk_size\n",
    "        self.chunk_shape = (self.chunk_size, self.chunk_size, self.chunk_size)\n",
    "        self.chunk_volume = np.prod(self.chunk_shape)\n",
    "        self.metadata = pd.read_csv(os.path.join(self.repo_dir, set_name + '-metadata.csv'))\n",
    "        self.pos_users = self.metadata[self.metadata['flag']==1]['uid']\n",
    "\n",
    "        self.neg_users = self.metadata[self.metadata['flag']==0]['uid']\n",
    "        self.nvids = self.metadata.shape[0]\n",
    "        self.chunks_filled = 0\n",
    "        self.video_idx = 0\n",
    "        # Load this many videos at a time\n",
    "        # self.vids_per_macrobatch = 128\n",
    "        # Extract this many chunks from each video\n",
    "        # if not test_mode:\n",
    "        #     self.chunks_per_vid = 128\n",
    "        # else:\n",
    "        #     self.chunks_per_vid = settings.chunks_per_dim ** 3\n",
    "        # self.macrobatch_offset = 0\n",
    "        # self.chunks_left_in_macrobatch = 0\n",
    "        # self.macrobatch_size = self.vids_per_macrobatch * self.chunks_per_vid\n",
    "\n",
    "        # self.ndata = self.nvids * self.chunks_per_vid\n",
    "        if not test_mode:\n",
    "            self.labels = pd.read_csv(os.path.join(self.repo_dir, 'labels.csv'))\n",
    "            self.nega_labels = pd.read_csv(os.path.join(self.repo_dir, 'candidates_V2.csv'))\n",
    "        else:\n",
    "            self.labels = None\n",
    "            # Host buffers for macrobatch data and targets\n",
    "#         self.data = np.empty((self.macrobatch_size, self.chunk_volume), dtype=datum_dtype)\n",
    "#         self.targets = np.empty((self.macrobatch_size, nclasses), dtype=np.float32)\n",
    "#         self.starts = np.empty((self.macrobatch_size, 3), dtype=datum_dtype)\n",
    "        # self.minibatch_data = np.empty((self.bsz, self.chunk_volume), dtype=datum_dtype)\n",
    "        # self.minibatch_targets = np.empty((self.bsz, nclasses), dtype=np.float32)\n",
    "        # self.minibatch_starts = np.empty((self.bsz, 3), dtype=datum_dtype)\n",
    "        self.test_mode = test_mode\n",
    "        self.chunks,self.starts,self.targets = [],[],[]\n",
    "        ##positive points in lables.csv\n",
    "        self.pos_labels = self.labels[self.labels['uid'].isin(self.pos_users)].shape[0]\n",
    "        self.pos_neg_ratio = 5.0\n",
    "        self.chunk_from_neg_users = int(self.pos_labels*self.pos_neg_ratio/len(self.neg_users))\n",
    "        # self.chunk_count = 0\n",
    "        # self.shape = (1, self.chunk_size, self.chunk_size, self.chunk_size)\n",
    "\n",
    "#         self.transform_buffer = np.empty(self.chunk_shape, dtype=datum_dtype)\n",
    "        # Device buffers for minibatch data and targets\n",
    "        # self.dev_data = self.be.empty((self.chunk_volume, self.bsz), dtype=self.be.default_dtype)\n",
    "        # self.dev_targets = self.be.empty((nclasses, self.bsz), dtype=self.be.default_dtype)\n",
    "        # self.dev_starts = self.be.empty((3, self.bsz), dtype=self.be.default_dtype)\n",
    "        self.current_uid = self.current_flag = self.current_meta = None\n",
    "\n",
    "    def reset(self):\n",
    "        # self.start_idx = 0\n",
    "        # self.video_idx = 0\n",
    "        self.chunks,self.starts,self.targets = [],[],[]\n",
    "    def next_video(self,video_idx):\n",
    "        self.reset()\n",
    "        self.current_meta = self.metadata.iloc[video_idx]\n",
    "        uid = self.current_meta['uid']\n",
    "        self.current_uid = self.current_meta['uid']\n",
    "        self.current_flag = int(self.current_meta['flag'])\n",
    "        data_filename = os.path.join(self.repo_dir, uid + '.' + settings.file_ext)\n",
    "        vid_shape = (int(self.current_meta['z_len']),\n",
    "                     int(self.current_meta['y_len']),\n",
    "                     int(self.current_meta['x_len']))\n",
    "        vid_data = video.read_blp(data_filename, vid_shape)\n",
    "        self.video_idx += 1\n",
    "        self.extract_chunks(vid_data)\n",
    "\n",
    "\n",
    "        return self.chunks,self.starts,self.targets\n",
    "\n",
    "\n",
    "    def slice_chunk(self, start, data):\n",
    "        print \"que \",start,data.shape\n",
    "        return data[start[0]:start[0] + self.chunk_size,\n",
    "               start[1]:start[1] + self.chunk_size,\n",
    "               start[2]:start[2] + self.chunk_size].ravel()\n",
    "\n",
    "    def extract_one(self, data, data_shape, uid_data,idx):\n",
    "        # assert uid_data.shape[0] != 0\n",
    "        if not self.test_mode:\n",
    "                # rand = np.random.randint(8)\n",
    "                # Could be a real nodule or a negative sample selected from\n",
    "                # possible candidates\n",
    "                # i = np.random.randint(uid_data.shape[0])\n",
    "                center = np.array((uid_data['z'].iloc[idx],\n",
    "                                   uid_data['y'].iloc[idx],\n",
    "                                   uid_data['x'].iloc[idx]), dtype=np.int32)\n",
    "                # radius\n",
    "                rad = 0.5 * uid_data['diam'].iloc[idx]\n",
    "                if rad == 0:\n",
    "                    # Assign an arbitrary radius to candidate nodules\n",
    "                    rad = 24 / settings.resolution\n",
    "                    \n",
    "                #comment by lc: low may <0    \n",
    "                low = np.int32(center + rad - self.chunk_size)\n",
    "                low[low<0]=0\n",
    "                high = np.int32(center - rad)\n",
    "            # else:\n",
    "            #     # Let in a random negative sample\n",
    "            #     low = np.zeros(3, dtype=np.int32)\n",
    "            #     high = np.int32(low + data_shape - self.chunk_size)\n",
    "\n",
    "            # for j in range(3):\n",
    "            #     low[j] = max(0, low[j])\n",
    "            #     high[j] = max(low[j] + 1, high[j])\n",
    "            #     high[j] = min(data_shape[j] - self.chunk_size, high[j])\n",
    "            #     low[j] = min(low[j], high[j] - 1)\n",
    "            # Jitter the location of this chunk\n",
    "                print center,low,high,rad\n",
    "                start = [np.random.randint(low=low[i], high=high[i]) for i in range(3)]\n",
    "        else:\n",
    "            start = self.generate_chunk_start(chunk_idx, data_shape)\n",
    "            \n",
    "        print start,data.shape\n",
    "        \n",
    "        chunk = self.slice_chunk(start, data)\n",
    "\n",
    "        # self.starts[cur_idx + chunk_idx] = start\n",
    "\n",
    "        # if self.current_flag != -1:\n",
    "        #     self.targets[cur_idx + chunk_idx, self.current_flag] = 1\n",
    "\n",
    "        # if self.augment:\n",
    "        #     self.transform_buffer[:] = chunk.reshape(self.transform_buffer.shape)\n",
    "        #     self.data[cur_idx + chunk_idx] = self.transform(self.transform_buffer).ravel()\n",
    "        # else:\n",
    "        #     self.data[cur_idx + chunk_idx] = chunk\n",
    "        return chunk,start\n",
    "\n",
    "    def generate_chunk_start(self, chunk_idx, data_shape):\n",
    "        chunk_spacing = np.int32((np.array(data_shape) - self.chunk_size) / settings.chunks_per_dim)\n",
    "        z_chunk_idx = chunk_idx / settings.chunks_per_dim ** 2\n",
    "        y_chunk_idx = (chunk_idx - z_chunk_idx * settings.chunks_per_dim ** 2) / settings.chunks_per_dim\n",
    "        x_chunk_idx = chunk_idx - z_chunk_idx * settings.chunks_per_dim ** 2 \\\n",
    "                      - y_chunk_idx * settings.chunks_per_dim\n",
    "\n",
    "        start = [z_chunk_idx * chunk_spacing[0],\n",
    "                 y_chunk_idx * chunk_spacing[1],\n",
    "                 x_chunk_idx * chunk_spacing[2]]\n",
    "        return start\n",
    "\n",
    "    def extract_chunks(self, data):\n",
    "        # meta = self.current_meta\n",
    "        data_shape = np.array(data.shape, dtype=np.int32)\n",
    "        # uid = meta['uid']\n",
    "        # uid_data = self.labels[self.labels['uid'] == uid]\n",
    "#         if not self.test_mode:\n",
    "#             uid_data = self.labels[self.labels['uid'] == self.current_uid]\n",
    "\n",
    "#         else:\n",
    "#             uid_data = None\n",
    "        if self.current_flag:\n",
    "            uid_data = self.labels[self.labels['uid'] == self.current_uid]\n",
    "            for idx in range(uid_data.shape[0]):\n",
    "                chunk,start = self.extract_one(data, data_shape, uid_data, idx)\n",
    "                self.chunks.append(chunk)\n",
    "                self.starts.append(start)\n",
    "                self.targets.append(1)\n",
    "        else:\n",
    "            uid_data = self.nega_labels[self.nega_labels['uid'] == self.current_uid]\n",
    "            for i in range(self.chunk_from_neg_users):\n",
    "                idx = np.random.randint(uid_data.shape[0])\n",
    "                chunk,start = self.extract_one(data, data_shape, uid_data, idx)\n",
    "                self.chunks.append(chunk)\n",
    "                self.starts.append(start)\n",
    "                self.targets.append(0)\n",
    "\n",
    "#     def next_macrobatch(self):\n",
    "#         curr_idx = 0\n",
    "#         self.targets[:] = 0\n",
    "#         self.starts[:] = 0\n",
    "#         for idx in range(self.vids_per_macrobatch):\n",
    "#             vid_data = self.next_video()\n",
    "#             # self.chunk_count = self.chunks_per_vid\n",
    "#             # self.extract_chunks(vid_data, curr_idx, self.chunks_per_vid)\n",
    "#             self.extract_chunks(vid_data, curr_idx)\n",
    "#             curr_idx += self.chunks_per_vid\n",
    "#             self.chunks_filled += self.chunks_per_vid\n",
    "#         self.chunks_left_in_macrobatch = self.macrobatch_size\n",
    "#         if self.is_training:\n",
    "#             self.shuffle(self.data, self.targets, self.starts)\n",
    " \n",
    "\n",
    "    #@property\n",
    "    # def nbatches(self):\n",
    "    #     return -((self.start_idx - self.ndata) // self.bsz)\n",
    "\n",
    "#     def __iter__(self):\n",
    "#         for start in range( self.nvids):\n",
    "#             yield self.next_video(start)\n",
    "\n",
    "#     def transform(self, vid):\n",
    "#         rand1 = np.random.randint(18)\n",
    "#         rand2 = np.random.randint(12)\n",
    "#         if rand1 == 0:\n",
    "#             vid = vid.transpose((0, 2, 1))\n",
    "#         elif rand1 == 1:\n",
    "#             vid = vid.transpose((1, 0, 2))\n",
    "#         elif rand1 == 2:\n",
    "#             vid = vid.transpose((1, 2, 0))\n",
    "#         elif rand1 == 3:\n",
    "#             vid = vid.transpose((2, 0, 1))\n",
    "#         elif rand1 == 4:\n",
    "#             vid = vid.transpose((2, 1, 0))\n",
    "\n",
    "#         if rand2 == 0:\n",
    "#             vid = vid[::-1]\n",
    "#         elif rand2 == 1:\n",
    "#             vid = vid[:, ::-1]\n",
    "#         elif rand2 == 2:\n",
    "#             vid = vid[:, :, ::-1]\n",
    "#         return vid\n",
    "\n",
    "\n",
    "#     def shuffle(self, data, targets, starts):\n",
    "#         inds = np.arange(self.data.shape[0])\n",
    "#         np.random.shuffle(inds)\n",
    "#         data[:] = data[inds]\n",
    "#         targets[:] = targets[inds]\n",
    "#         starts[:] = starts[inds]\n"
   ]
  },
  {
   "cell_type": "code",
   "execution_count": 25,
   "metadata": {
    "collapsed": false
   },
   "outputs": [],
   "source": [
    "common = dict(datum_dtype=np.uint8, repo_dir=repo_dir)\n",
    "test = ChunkLoader(set_name='train', augment=False, **common)\n"
   ]
  },
  {
   "cell_type": "code",
   "execution_count": 26,
   "metadata": {
    "collapsed": false
   },
   "outputs": [
    {
     "name": "stdout",
     "output_type": "stream",
     "text": [
      "[-266  -79  -32] [0 0 0] [-290 -103  -56] 24.0\n"
     ]
    },
    {
     "ename": "ValueError",
     "evalue": "low >= high",
     "output_type": "error",
     "traceback": [
      "\u001b[0;31m---------------------------------------------------------------------------\u001b[0m",
      "\u001b[0;31mValueError\u001b[0m                                Traceback (most recent call last)",
      "\u001b[0;32m<ipython-input-26-fbf760070954>\u001b[0m in \u001b[0;36m<module>\u001b[0;34m()\u001b[0m\n\u001b[0;32m----> 1\u001b[0;31m \u001b[0mtest\u001b[0m\u001b[0;34m.\u001b[0m\u001b[0mnext_video\u001b[0m\u001b[0;34m(\u001b[0m\u001b[0;36m2\u001b[0m\u001b[0;34m)\u001b[0m\u001b[0;34m\u001b[0m\u001b[0m\n\u001b[0m",
      "\u001b[0;32m<ipython-input-24-0bfd58db03ce>\u001b[0m in \u001b[0;36mnext_video\u001b[0;34m(self, video_idx)\u001b[0m\n\u001b[1;32m     83\u001b[0m         \u001b[0mvid_data\u001b[0m \u001b[0;34m=\u001b[0m \u001b[0mvideo\u001b[0m\u001b[0;34m.\u001b[0m\u001b[0mread_blp\u001b[0m\u001b[0;34m(\u001b[0m\u001b[0mdata_filename\u001b[0m\u001b[0;34m,\u001b[0m \u001b[0mvid_shape\u001b[0m\u001b[0;34m)\u001b[0m\u001b[0;34m\u001b[0m\u001b[0m\n\u001b[1;32m     84\u001b[0m         \u001b[0mself\u001b[0m\u001b[0;34m.\u001b[0m\u001b[0mvideo_idx\u001b[0m \u001b[0;34m+=\u001b[0m \u001b[0;36m1\u001b[0m\u001b[0;34m\u001b[0m\u001b[0m\n\u001b[0;32m---> 85\u001b[0;31m         \u001b[0mself\u001b[0m\u001b[0;34m.\u001b[0m\u001b[0mextract_chunks\u001b[0m\u001b[0;34m(\u001b[0m\u001b[0mvid_data\u001b[0m\u001b[0;34m)\u001b[0m\u001b[0;34m\u001b[0m\u001b[0m\n\u001b[0m\u001b[1;32m     86\u001b[0m \u001b[0;34m\u001b[0m\u001b[0m\n\u001b[1;32m     87\u001b[0m \u001b[0;34m\u001b[0m\u001b[0m\n",
      "\u001b[0;32m<ipython-input-24-0bfd58db03ce>\u001b[0m in \u001b[0;36mextract_chunks\u001b[0;34m(self, data)\u001b[0m\n\u001b[1;32m    179\u001b[0m             \u001b[0;32mfor\u001b[0m \u001b[0mi\u001b[0m \u001b[0;32min\u001b[0m \u001b[0mrange\u001b[0m\u001b[0;34m(\u001b[0m\u001b[0mself\u001b[0m\u001b[0;34m.\u001b[0m\u001b[0mchunk_from_neg_users\u001b[0m\u001b[0;34m)\u001b[0m\u001b[0;34m:\u001b[0m\u001b[0;34m\u001b[0m\u001b[0m\n\u001b[1;32m    180\u001b[0m                 \u001b[0midx\u001b[0m \u001b[0;34m=\u001b[0m \u001b[0mnp\u001b[0m\u001b[0;34m.\u001b[0m\u001b[0mrandom\u001b[0m\u001b[0;34m.\u001b[0m\u001b[0mrandint\u001b[0m\u001b[0;34m(\u001b[0m\u001b[0muid_data\u001b[0m\u001b[0;34m.\u001b[0m\u001b[0mshape\u001b[0m\u001b[0;34m[\u001b[0m\u001b[0;36m0\u001b[0m\u001b[0;34m]\u001b[0m\u001b[0;34m)\u001b[0m\u001b[0;34m\u001b[0m\u001b[0m\n\u001b[0;32m--> 181\u001b[0;31m                 \u001b[0mchunk\u001b[0m\u001b[0;34m,\u001b[0m\u001b[0mstart\u001b[0m \u001b[0;34m=\u001b[0m \u001b[0mself\u001b[0m\u001b[0;34m.\u001b[0m\u001b[0mextract_one\u001b[0m\u001b[0;34m(\u001b[0m\u001b[0mdata\u001b[0m\u001b[0;34m,\u001b[0m \u001b[0mdata_shape\u001b[0m\u001b[0;34m,\u001b[0m \u001b[0muid_data\u001b[0m\u001b[0;34m,\u001b[0m \u001b[0midx\u001b[0m\u001b[0;34m)\u001b[0m\u001b[0;34m\u001b[0m\u001b[0m\n\u001b[0m\u001b[1;32m    182\u001b[0m                 \u001b[0mself\u001b[0m\u001b[0;34m.\u001b[0m\u001b[0mchunks\u001b[0m\u001b[0;34m.\u001b[0m\u001b[0mappend\u001b[0m\u001b[0;34m(\u001b[0m\u001b[0mchunk\u001b[0m\u001b[0;34m)\u001b[0m\u001b[0;34m\u001b[0m\u001b[0m\n\u001b[1;32m    183\u001b[0m                 \u001b[0mself\u001b[0m\u001b[0;34m.\u001b[0m\u001b[0mstarts\u001b[0m\u001b[0;34m.\u001b[0m\u001b[0mappend\u001b[0m\u001b[0;34m(\u001b[0m\u001b[0mstart\u001b[0m\u001b[0;34m)\u001b[0m\u001b[0;34m\u001b[0m\u001b[0m\n",
      "\u001b[0;32m<ipython-input-24-0bfd58db03ce>\u001b[0m in \u001b[0;36mextract_one\u001b[0;34m(self, data, data_shape, uid_data, idx)\u001b[0m\n\u001b[1;32m    127\u001b[0m             \u001b[0;31m# Jitter the location of this chunk\u001b[0m\u001b[0;34m\u001b[0m\u001b[0;34m\u001b[0m\u001b[0m\n\u001b[1;32m    128\u001b[0m                 \u001b[0;32mprint\u001b[0m \u001b[0mcenter\u001b[0m\u001b[0;34m,\u001b[0m\u001b[0mlow\u001b[0m\u001b[0;34m,\u001b[0m\u001b[0mhigh\u001b[0m\u001b[0;34m,\u001b[0m\u001b[0mrad\u001b[0m\u001b[0;34m\u001b[0m\u001b[0m\n\u001b[0;32m--> 129\u001b[0;31m                 \u001b[0mstart\u001b[0m \u001b[0;34m=\u001b[0m \u001b[0;34m[\u001b[0m\u001b[0mnp\u001b[0m\u001b[0;34m.\u001b[0m\u001b[0mrandom\u001b[0m\u001b[0;34m.\u001b[0m\u001b[0mrandint\u001b[0m\u001b[0;34m(\u001b[0m\u001b[0mlow\u001b[0m\u001b[0;34m=\u001b[0m\u001b[0mlow\u001b[0m\u001b[0;34m[\u001b[0m\u001b[0mi\u001b[0m\u001b[0;34m]\u001b[0m\u001b[0;34m,\u001b[0m \u001b[0mhigh\u001b[0m\u001b[0;34m=\u001b[0m\u001b[0mhigh\u001b[0m\u001b[0;34m[\u001b[0m\u001b[0mi\u001b[0m\u001b[0;34m]\u001b[0m\u001b[0;34m)\u001b[0m \u001b[0;32mfor\u001b[0m \u001b[0mi\u001b[0m \u001b[0;32min\u001b[0m \u001b[0mrange\u001b[0m\u001b[0;34m(\u001b[0m\u001b[0;36m3\u001b[0m\u001b[0;34m)\u001b[0m\u001b[0;34m]\u001b[0m\u001b[0;34m\u001b[0m\u001b[0m\n\u001b[0m\u001b[1;32m    130\u001b[0m         \u001b[0;32melse\u001b[0m\u001b[0;34m:\u001b[0m\u001b[0;34m\u001b[0m\u001b[0m\n\u001b[1;32m    131\u001b[0m             \u001b[0mstart\u001b[0m \u001b[0;34m=\u001b[0m \u001b[0mself\u001b[0m\u001b[0;34m.\u001b[0m\u001b[0mgenerate_chunk_start\u001b[0m\u001b[0;34m(\u001b[0m\u001b[0mchunk_idx\u001b[0m\u001b[0;34m,\u001b[0m \u001b[0mdata_shape\u001b[0m\u001b[0;34m)\u001b[0m\u001b[0;34m\u001b[0m\u001b[0m\n",
      "\u001b[0;32mmtrand.pyx\u001b[0m in \u001b[0;36mmtrand.RandomState.randint (numpy/random/mtrand/mtrand.c:10732)\u001b[0;34m()\u001b[0m\n",
      "\u001b[0;31mValueError\u001b[0m: low >= high"
     ]
    }
   ],
   "source": [
    "test.next_video(2)"
   ]
  },
  {
   "cell_type": "code",
   "execution_count": null,
   "metadata": {
    "collapsed": true
   },
   "outputs": [],
   "source": []
  },
  {
   "cell_type": "code",
   "execution_count": 28,
   "metadata": {
    "collapsed": false
   },
   "outputs": [],
   "source": [
    "train_metadata = pd.read_csv(repo_dir+\"train-metadata.csv\",header=False)"
   ]
  },
  {
   "cell_type": "code",
   "execution_count": 56,
   "metadata": {
    "collapsed": false
   },
   "outputs": [
    {
     "data": {
      "text/html": [
       "<div>\n",
       "<table border=\"1\" class=\"dataframe\">\n",
       "  <thead>\n",
       "    <tr style=\"text-align: right;\">\n",
       "      <th></th>\n",
       "      <th>uid</th>\n",
       "      <th>flag</th>\n",
       "      <th>z_len</th>\n",
       "      <th>y_len</th>\n",
       "      <th>x_len</th>\n",
       "    </tr>\n",
       "  </thead>\n",
       "  <tbody>\n",
       "    <tr>\n",
       "      <th>0</th>\n",
       "      <td>1.3.6.1.4.1.14519.5.2.1.6279.6001.139258777898...</td>\n",
       "      <td>1</td>\n",
       "      <td>264</td>\n",
       "      <td>199</td>\n",
       "      <td>256</td>\n",
       "    </tr>\n",
       "    <tr>\n",
       "      <th>1</th>\n",
       "      <td>1.3.6.1.4.1.14519.5.2.1.6279.6001.458525794434...</td>\n",
       "      <td>1</td>\n",
       "      <td>309</td>\n",
       "      <td>250</td>\n",
       "      <td>332</td>\n",
       "    </tr>\n",
       "    <tr>\n",
       "      <th>2</th>\n",
       "      <td>1.3.6.1.4.1.14519.5.2.1.6279.6001.296066944953...</td>\n",
       "      <td>0</td>\n",
       "      <td>298</td>\n",
       "      <td>185</td>\n",
       "      <td>263</td>\n",
       "    </tr>\n",
       "    <tr>\n",
       "      <th>3</th>\n",
       "      <td>1.3.6.1.4.1.14519.5.2.1.6279.6001.219254430927...</td>\n",
       "      <td>1</td>\n",
       "      <td>313</td>\n",
       "      <td>214</td>\n",
       "      <td>296</td>\n",
       "    </tr>\n",
       "    <tr>\n",
       "      <th>4</th>\n",
       "      <td>1.3.6.1.4.1.14519.5.2.1.6279.6001.219281726101...</td>\n",
       "      <td>1</td>\n",
       "      <td>263</td>\n",
       "      <td>266</td>\n",
       "      <td>315</td>\n",
       "    </tr>\n",
       "  </tbody>\n",
       "</table>\n",
       "</div>"
      ],
      "text/plain": [
       "                                                 uid  flag  z_len  y_len  \\\n",
       "0  1.3.6.1.4.1.14519.5.2.1.6279.6001.139258777898...     1    264    199   \n",
       "1  1.3.6.1.4.1.14519.5.2.1.6279.6001.458525794434...     1    309    250   \n",
       "2  1.3.6.1.4.1.14519.5.2.1.6279.6001.296066944953...     0    298    185   \n",
       "3  1.3.6.1.4.1.14519.5.2.1.6279.6001.219254430927...     1    313    214   \n",
       "4  1.3.6.1.4.1.14519.5.2.1.6279.6001.219281726101...     1    263    266   \n",
       "\n",
       "   x_len  \n",
       "0    256  \n",
       "1    332  \n",
       "2    263  \n",
       "3    296  \n",
       "4    315  "
      ]
     },
     "execution_count": 56,
     "metadata": {},
     "output_type": "execute_result"
    }
   ],
   "source": [
    "train_metadata.head()"
   ]
  },
  {
   "cell_type": "code",
   "execution_count": 44,
   "metadata": {
    "collapsed": false
   },
   "outputs": [],
   "source": [
    "labels = pd.read_csv(repo_dir+\"labels.csv\",header=False)"
   ]
  },
  {
   "cell_type": "code",
   "execution_count": 30,
   "metadata": {
    "collapsed": true
   },
   "outputs": [],
   "source": [
    "candidates = pd.read_csv(repo_dir+\"candidates_V2.csv\",header=False)"
   ]
  },
  {
   "cell_type": "code",
   "execution_count": 62,
   "metadata": {
    "collapsed": false
   },
   "outputs": [],
   "source": [
    "pos_users = train_metadata[train_metadata['flag']==1]['uid']"
   ]
  },
  {
   "cell_type": "code",
   "execution_count": 58,
   "metadata": {
    "collapsed": false
   },
   "outputs": [
    {
     "data": {
      "text/html": [
       "<div>\n",
       "<table border=\"1\" class=\"dataframe\">\n",
       "  <thead>\n",
       "    <tr style=\"text-align: right;\">\n",
       "      <th></th>\n",
       "      <th>uid</th>\n",
       "      <th>flag</th>\n",
       "      <th>z</th>\n",
       "      <th>y</th>\n",
       "      <th>x</th>\n",
       "      <th>diam</th>\n",
       "      <th>vol</th>\n",
       "    </tr>\n",
       "  </thead>\n",
       "  <tbody>\n",
       "    <tr>\n",
       "      <th>8</th>\n",
       "      <td>1.3.6.1.4.1.14519.5.2.1.6279.6001.296066944953...</td>\n",
       "      <td>0</td>\n",
       "      <td>253</td>\n",
       "      <td>146</td>\n",
       "      <td>185</td>\n",
       "      <td>0</td>\n",
       "      <td>0</td>\n",
       "    </tr>\n",
       "    <tr>\n",
       "      <th>9</th>\n",
       "      <td>1.3.6.1.4.1.14519.5.2.1.6279.6001.296066944953...</td>\n",
       "      <td>0</td>\n",
       "      <td>230</td>\n",
       "      <td>142</td>\n",
       "      <td>219</td>\n",
       "      <td>0</td>\n",
       "      <td>0</td>\n",
       "    </tr>\n",
       "    <tr>\n",
       "      <th>10</th>\n",
       "      <td>1.3.6.1.4.1.14519.5.2.1.6279.6001.296066944953...</td>\n",
       "      <td>0</td>\n",
       "      <td>115</td>\n",
       "      <td>23</td>\n",
       "      <td>213</td>\n",
       "      <td>0</td>\n",
       "      <td>0</td>\n",
       "    </tr>\n",
       "    <tr>\n",
       "      <th>11</th>\n",
       "      <td>1.3.6.1.4.1.14519.5.2.1.6279.6001.296066944953...</td>\n",
       "      <td>0</td>\n",
       "      <td>268</td>\n",
       "      <td>121</td>\n",
       "      <td>167</td>\n",
       "      <td>0</td>\n",
       "      <td>0</td>\n",
       "    </tr>\n",
       "    <tr>\n",
       "      <th>12</th>\n",
       "      <td>1.3.6.1.4.1.14519.5.2.1.6279.6001.296066944953...</td>\n",
       "      <td>0</td>\n",
       "      <td>268</td>\n",
       "      <td>122</td>\n",
       "      <td>100</td>\n",
       "      <td>0</td>\n",
       "      <td>0</td>\n",
       "    </tr>\n",
       "  </tbody>\n",
       "</table>\n",
       "</div>"
      ],
      "text/plain": [
       "                                                  uid  flag    z    y    x  \\\n",
       "8   1.3.6.1.4.1.14519.5.2.1.6279.6001.296066944953...     0  253  146  185   \n",
       "9   1.3.6.1.4.1.14519.5.2.1.6279.6001.296066944953...     0  230  142  219   \n",
       "10  1.3.6.1.4.1.14519.5.2.1.6279.6001.296066944953...     0  115   23  213   \n",
       "11  1.3.6.1.4.1.14519.5.2.1.6279.6001.296066944953...     0  268  121  167   \n",
       "12  1.3.6.1.4.1.14519.5.2.1.6279.6001.296066944953...     0  268  122  100   \n",
       "\n",
       "    diam  vol  \n",
       "8      0    0  \n",
       "9      0    0  \n",
       "10     0    0  \n",
       "11     0    0  \n",
       "12     0    0  "
      ]
     },
     "execution_count": 58,
     "metadata": {},
     "output_type": "execute_result"
    }
   ],
   "source": [
    "labels[labels['flag']==0].head()"
   ]
  },
  {
   "cell_type": "code",
   "execution_count": 51,
   "metadata": {
    "collapsed": false
   },
   "outputs": [
    {
     "data": {
      "text/plain": [
       "175"
      ]
     },
     "execution_count": 51,
     "metadata": {},
     "output_type": "execute_result"
    }
   ],
   "source": [
    "len(set(labels['uid'])-set(train_metadata['uid']))"
   ]
  },
  {
   "cell_type": "code",
   "execution_count": 52,
   "metadata": {
    "collapsed": false
   },
   "outputs": [
    {
     "data": {
      "text/plain": [
       "871"
      ]
     },
     "execution_count": 52,
     "metadata": {},
     "output_type": "execute_result"
    }
   ],
   "source": [
    "len(set(labels['uid']))"
   ]
  },
  {
   "cell_type": "code",
   "execution_count": 48,
   "metadata": {
    "collapsed": false
   },
   "outputs": [
    {
     "data": {
      "text/plain": [
       "1    4580\n",
       "0    3359\n",
       "dtype: int64"
      ]
     },
     "execution_count": 48,
     "metadata": {},
     "output_type": "execute_result"
    }
   ],
   "source": [
    "labels.flag.value_counts()"
   ]
  },
  {
   "cell_type": "code",
   "execution_count": 63,
   "metadata": {
    "collapsed": false
   },
   "outputs": [
    {
     "data": {
      "text/plain": [
       "3674"
      ]
     },
     "execution_count": 63,
     "metadata": {},
     "output_type": "execute_result"
    }
   ],
   "source": [
    "labels[labels['uid'].isin(pos_users)].shape[0]\n"
   ]
  },
  {
   "cell_type": "code",
   "execution_count": 65,
   "metadata": {
    "collapsed": false
   },
   "outputs": [
    {
     "data": {
      "text/plain": [
       "1    4580\n",
       "0    3359\n",
       "dtype: int64"
      ]
     },
     "execution_count": 65,
     "metadata": {},
     "output_type": "execute_result"
    }
   ],
   "source": [
    "labels.flag.value_counts()"
   ]
  },
  {
   "cell_type": "code",
   "execution_count": null,
   "metadata": {
    "collapsed": true
   },
   "outputs": [],
   "source": []
  }
 ],
 "metadata": {
  "kernelspec": {
   "display_name": "Python 2",
   "language": "python",
   "name": "python2"
  },
  "language_info": {
   "codemirror_mode": {
    "name": "ipython",
    "version": 2
   },
   "file_extension": ".py",
   "mimetype": "text/x-python",
   "name": "python",
   "nbconvert_exporter": "python",
   "pygments_lexer": "ipython2",
   "version": "2.7.10"
  }
 },
 "nbformat": 4,
 "nbformat_minor": 0
}
