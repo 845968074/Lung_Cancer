{
 "cells": [
  {
   "cell_type": "code",
   "execution_count": 1,
   "metadata": {
    "collapsed": false
   },
   "outputs": [],
   "source": [
    "import numpy as np\n",
    "# from data0 import ChunkLoader\n",
    "import settings\n",
    "import video\n",
    "import argparse, os\n",
    "# parser = argparse.ArgumentParser(description=\"data processing\")\n",
    "# # Parse the command line arguments\n",
    "# parser.add_argument('-tm', '--test_mode', action='store_true',\n",
    "#                     help='make predictions on test data')\n",
    "# args = parser.parse_args()\n",
    "\n"
   ]
  },
  {
   "cell_type": "code",
   "execution_count": 2,
   "metadata": {
    "collapsed": true
   },
   "outputs": [],
   "source": [
    "repo_dir = '/Users/chen.liu/nfs03/share_data/Intelligence/Scoupon/items/luna_new_vids/'\n"
   ]
  },
  {
   "cell_type": "code",
   "execution_count": 140,
   "metadata": {
    "collapsed": true
   },
   "outputs": [],
   "source": [
    "import logging\n",
    "import numpy as np\n",
    "import pandas as pd\n",
    "import os\n",
    "import video\n",
    "import settings\n",
    "\n",
    "\n",
    "class ChunkLoader():\n",
    "    def __init__(self, set_name, repo_dir, datum_dtype=np.uint8,\n",
    "                 nclasses=2, augment=False, test_mode=False):\n",
    "        # assert test_mode is False, 'Test mode not implemented yet'\n",
    "        np.random.seed(0)\n",
    "        self.set_name = set_name\n",
    "        # self.bsz = self.be.bsz\n",
    "        self.augment = augment\n",
    "        self.repo_dir = repo_dir\n",
    "        self.is_training = (set_name == 'train')\n",
    "        self.chunk_size = settings.chunk_size\n",
    "        self.chunk_shape = (self.chunk_size, self.chunk_size, self.chunk_size)\n",
    "        self.chunk_volume = np.prod(self.chunk_shape)\n",
    "        self.metadata = pd.read_csv(os.path.join(self.repo_dir, set_name + '-metadata.csv'))\n",
    "        self.data_size = self.metadata.shape[0]\n",
    "        self.pos_users = self.metadata[self.metadata['flag']==1]['uid']\n",
    "        self.neg_users = self.metadata[self.metadata['flag']==0]['uid']\n",
    "        self.nvids = self.metadata.shape[0]\n",
    "        self.chunks_filled = 0\n",
    "        self.video_idx = 0\n",
    "        if not test_mode:\n",
    "            self.labels = pd.read_csv(os.path.join(self.repo_dir, 'labels.csv'))\n",
    "            self.nega_labels = pd.read_csv(os.path.join(self.repo_dir, 'candidates.csv'))\n",
    "        else:\n",
    "            self.labels = None\n",
    "        self.test_mode = test_mode\n",
    "        self.chunks,self.starts,self.targets = [],[],[]\n",
    "        ##positive points in lables.csv\n",
    "        self.pos_labels = self.labels[self.labels['uid'].isin(self.pos_users)].shape[0]\n",
    "        self.pos_neg_ratio = 6.0\n",
    "        self.chunk_from_neg_users = int(self.pos_labels*self.pos_neg_ratio/len(self.neg_users))\n",
    "        self.current_uid = self.current_flag = self.current_meta = None\n",
    "\n",
    "    def reset(self):\n",
    "        self.chunks,self.starts,self.targets = [],[],[]\n",
    "    def next_video(self,video_idx):\n",
    "        self.reset()\n",
    "        self.current_meta = self.metadata.iloc[video_idx]\n",
    "        uid = self.current_meta['uid']\n",
    "        self.current_uid = self.current_meta['uid']\n",
    "        self.current_flag = int(self.current_meta['flag'])\n",
    "        data_filename = os.path.join(self.repo_dir, uid + '.' + settings.file_ext)\n",
    "        vid_shape = (int(self.current_meta['z_len']),\n",
    "                     int(self.current_meta['y_len']),\n",
    "                     int(self.current_meta['x_len']))\n",
    "        vid_data = video.read_blp(data_filename, vid_shape)\n",
    "        self.video_idx += 1\n",
    "        self.extract_chunks(vid_data)\n",
    "\n",
    "\n",
    "        return self.chunks,self.starts,self.targets\n",
    "\n",
    "\n",
    "    def slice_chunk(self, start, data):\n",
    "        return data[start[0]:start[0] + self.chunk_size,\n",
    "               start[1]:start[1] + self.chunk_size,\n",
    "               start[2]:start[2] + self.chunk_size]#.ravel()\n",
    "\n",
    "    def extract_one(self, data, data_shape, uid_data,idx):\n",
    "        # assert uid_data.shape[0] != 0\n",
    "        if not self.test_mode:\n",
    "                center = np.array((uid_data['z'].iloc[idx],\n",
    "                                   uid_data['y'].iloc[idx],\n",
    "                                   uid_data['x'].iloc[idx]), dtype=np.int32)\n",
    "                # radius\n",
    "                rad = 0.5 * uid_data['diam'].iloc[idx]\n",
    "                if rad == 0:\n",
    "                    # Assign an arbitrary radius to candidate nodules\n",
    "                    rad = 20 / settings.resolution\n",
    "                    \n",
    "                #comment by lc: low may <0   \n",
    "                low = np.int32(center + rad - self.chunk_size)\n",
    "                high = np.int32(center - rad)\n",
    "                for j in range(3):\n",
    "                    low[j] = max(0, low[j])\n",
    "                    high[j] = max(low[j] + 1, high[j])\n",
    "                    high[j] = min(data_shape[j] - self.chunk_size, high[j])\n",
    "                    low[j] = min(low[j], high[j] - 1)\n",
    "                start = [np.random.randint(low=low[i], high=high[i]) for i in range(3)]\n",
    "        else:\n",
    "            start = self.generate_chunk_start(chunk_idx, data_shape)\n",
    "            \n",
    "        \n",
    "        chunk = self.slice_chunk(start, data)\n",
    "\n",
    "        return chunk,start\n",
    "\n",
    "    def generate_chunk_start(self, chunk_idx, data_shape):\n",
    "        chunk_spacing = np.int32((np.array(data_shape) - self.chunk_size) / settings.chunks_per_dim)\n",
    "        z_chunk_idx = chunk_idx / settings.chunks_per_dim ** 2\n",
    "        y_chunk_idx = (chunk_idx - z_chunk_idx * settings.chunks_per_dim ** 2) / settings.chunks_per_dim\n",
    "        x_chunk_idx = chunk_idx - z_chunk_idx * settings.chunks_per_dim ** 2 \\\n",
    "                      - y_chunk_idx * settings.chunks_per_dim\n",
    "\n",
    "        start = [z_chunk_idx * chunk_spacing[0],\n",
    "                 y_chunk_idx * chunk_spacing[1],\n",
    "                 x_chunk_idx * chunk_spacing[2]]\n",
    "        return start\n",
    "\n",
    "    def extract_chunks(self, data):\n",
    "        data_shape = np.array(data.shape, dtype=np.int32)\n",
    "        if self.current_flag:\n",
    "            uid_data = self.labels[self.labels['uid'] == self.current_uid]\n",
    "            for idx in range(uid_data.shape[0]):\n",
    "                chunk,start = self.extract_one(data, data_shape, uid_data, idx)\n",
    "                if chunk is None:\n",
    "                    continue\n",
    "                self.chunks.append(chunk)\n",
    "                self.starts.append(start)\n",
    "                self.targets.append(1)\n",
    "        else:\n",
    "            uid_data = self.nega_labels[self.nega_labels['uid'] == self.current_uid]\n",
    "            for i in range(min(self.chunk_from_neg_users,uid_data.shape[0])):\n",
    "                idx = np.random.randint(uid_data.shape[0])\n",
    "                chunk,start = self.extract_one(data, data_shape, uid_data, idx)\n",
    "                if chunk is None:\n",
    "                    continue\n",
    "                self.chunks.append(chunk)\n",
    "                self.starts.append(start)\n",
    "                self.targets.append(0)"
   ]
  },
  {
   "cell_type": "code",
   "execution_count": 156,
   "metadata": {
    "collapsed": false
   },
   "outputs": [],
   "source": [
    "common = dict(datum_dtype=np.uint8, repo_dir=repo_dir)\n",
    "test = ChunkLoader(set_name='train', augment=False, **common)\n"
   ]
  },
  {
   "cell_type": "code",
   "execution_count": 151,
   "metadata": {
    "collapsed": false
   },
   "outputs": [
    {
     "data": {
      "text/plain": [
       "'1.3.6.1.4.1.14519.5.2.1.6279.6001.219281726101239572270900838145'"
      ]
     },
     "execution_count": 151,
     "metadata": {},
     "output_type": "execute_result"
    }
   ],
   "source": [
    "test.current_uid"
   ]
  },
  {
   "cell_type": "code",
   "execution_count": 157,
   "metadata": {
    "collapsed": false
   },
   "outputs": [],
   "source": [
    "save_folder = '/storage03/share_data/Intelligence/Scoupon/items/features/luna_train_features/'\n",
    "def write_file(path,array):\n",
    "    file_ = open(path,'w')\n",
    "    np.save(file_,array)\n",
    "    file_.close()"
   ]
  },
  {
   "cell_type": "code",
   "execution_count": 158,
   "metadata": {
    "collapsed": false
   },
   "outputs": [
    {
     "name": "stdout",
     "output_type": "stream",
     "text": [
      "procedding  0\n"
     ]
    },
    {
     "ename": "IOError",
     "evalue": "[Errno 2] No such file or directory: '/storage03/share_data/Intelligence/Scoupon/items/features/luna_train_features/locaition_1.3.6.1.4.1.14519.5.2.1.6279.6001.139258777898746693365877042411'",
     "output_type": "error",
     "traceback": [
      "\u001b[0;31m---------------------------------------------------------------------------\u001b[0m",
      "\u001b[0;31mIOError\u001b[0m                                   Traceback (most recent call last)",
      "\u001b[0;32m<ipython-input-158-5b961233d528>\u001b[0m in \u001b[0;36m<module>\u001b[0;34m()\u001b[0m\n\u001b[1;32m      4\u001b[0m         \u001b[0;32mprint\u001b[0m \u001b[0;34m\"procedding \"\u001b[0m\u001b[0;34m,\u001b[0m\u001b[0mi\u001b[0m\u001b[0;34m\u001b[0m\u001b[0m\n\u001b[1;32m      5\u001b[0m \u001b[0;31m#     print np.array(c).shape,np.array(s).shape,np.array(t).shape\u001b[0m\u001b[0;34m\u001b[0m\u001b[0;34m\u001b[0m\u001b[0m\n\u001b[0;32m----> 6\u001b[0;31m     \u001b[0mwrite_file\u001b[0m\u001b[0;34m(\u001b[0m\u001b[0msave_folder\u001b[0m\u001b[0;34m+\u001b[0m\u001b[0;34m\"locaition_\"\u001b[0m\u001b[0;34m+\u001b[0m\u001b[0mtest\u001b[0m\u001b[0;34m.\u001b[0m\u001b[0mcurrent_uid\u001b[0m\u001b[0;34m,\u001b[0m\u001b[0mnp\u001b[0m\u001b[0;34m.\u001b[0m\u001b[0marray\u001b[0m\u001b[0;34m(\u001b[0m\u001b[0ms\u001b[0m\u001b[0;34m)\u001b[0m\u001b[0;34m)\u001b[0m\u001b[0;34m\u001b[0m\u001b[0m\n\u001b[0m\u001b[1;32m      7\u001b[0m     \u001b[0mwrite_file\u001b[0m\u001b[0;34m(\u001b[0m\u001b[0msave_folder\u001b[0m\u001b[0;34m+\u001b[0m\u001b[0;34m\"label_\"\u001b[0m\u001b[0;34m+\u001b[0m\u001b[0mtest\u001b[0m\u001b[0;34m.\u001b[0m\u001b[0mcurrent_uid\u001b[0m\u001b[0;34m,\u001b[0m\u001b[0mnp\u001b[0m\u001b[0;34m.\u001b[0m\u001b[0marray\u001b[0m\u001b[0;34m(\u001b[0m\u001b[0mt\u001b[0m\u001b[0;34m)\u001b[0m\u001b[0;34m)\u001b[0m\u001b[0;34m\u001b[0m\u001b[0m\n\u001b[1;32m      8\u001b[0m     \u001b[0mwrite_file\u001b[0m\u001b[0;34m(\u001b[0m\u001b[0msave_folder\u001b[0m\u001b[0;34m+\u001b[0m\u001b[0;34m\"chunk_\"\u001b[0m\u001b[0;34m+\u001b[0m\u001b[0mtest\u001b[0m\u001b[0;34m.\u001b[0m\u001b[0mcurrent_uid\u001b[0m\u001b[0;34m,\u001b[0m\u001b[0mnp\u001b[0m\u001b[0;34m.\u001b[0m\u001b[0marray\u001b[0m\u001b[0;34m(\u001b[0m\u001b[0mc\u001b[0m\u001b[0;34m)\u001b[0m\u001b[0;34m)\u001b[0m\u001b[0;34m\u001b[0m\u001b[0m\n",
      "\u001b[0;32m<ipython-input-157-7cbf29c950ed>\u001b[0m in \u001b[0;36mwrite_file\u001b[0;34m(path, array)\u001b[0m\n\u001b[1;32m      1\u001b[0m \u001b[0msave_folder\u001b[0m \u001b[0;34m=\u001b[0m \u001b[0;34m'/storage03/share_data/Intelligence/Scoupon/items/features/luna_train_features/'\u001b[0m\u001b[0;34m\u001b[0m\u001b[0m\n\u001b[1;32m      2\u001b[0m \u001b[0;32mdef\u001b[0m \u001b[0mwrite_file\u001b[0m\u001b[0;34m(\u001b[0m\u001b[0mpath\u001b[0m\u001b[0;34m,\u001b[0m\u001b[0marray\u001b[0m\u001b[0;34m)\u001b[0m\u001b[0;34m:\u001b[0m\u001b[0;34m\u001b[0m\u001b[0m\n\u001b[0;32m----> 3\u001b[0;31m     \u001b[0mfile_\u001b[0m \u001b[0;34m=\u001b[0m \u001b[0mopen\u001b[0m\u001b[0;34m(\u001b[0m\u001b[0mpath\u001b[0m\u001b[0;34m,\u001b[0m\u001b[0;34m'w'\u001b[0m\u001b[0;34m)\u001b[0m\u001b[0;34m\u001b[0m\u001b[0m\n\u001b[0m\u001b[1;32m      4\u001b[0m     \u001b[0mnp\u001b[0m\u001b[0;34m.\u001b[0m\u001b[0msave\u001b[0m\u001b[0;34m(\u001b[0m\u001b[0mfile_\u001b[0m\u001b[0;34m,\u001b[0m\u001b[0marray\u001b[0m\u001b[0;34m)\u001b[0m\u001b[0;34m\u001b[0m\u001b[0m\n\u001b[1;32m      5\u001b[0m     \u001b[0mfile_\u001b[0m\u001b[0;34m.\u001b[0m\u001b[0mclose\u001b[0m\u001b[0;34m(\u001b[0m\u001b[0;34m)\u001b[0m\u001b[0;34m\u001b[0m\u001b[0m\n",
      "\u001b[0;31mIOError\u001b[0m: [Errno 2] No such file or directory: '/storage03/share_data/Intelligence/Scoupon/items/features/luna_train_features/locaition_1.3.6.1.4.1.14519.5.2.1.6279.6001.139258777898746693365877042411'"
     ]
    }
   ],
   "source": [
    "for i in range(test.data_size):\n",
    "    c,s,t = test.next_video(i)\n",
    "    if i%100==0:\n",
    "        print \"procedding \",i\n",
    "#     print np.array(c).shape,np.array(s).shape,np.array(t).shape\n",
    "    np.save(save_folder+\"locaition_\"+test.current_uid,np.array(s))\n",
    "    np.save(save_folder+\"label_\"+test.current_uid,np.array(t))\n",
    "    np.save(save_folder+\"chunk_\"+test.current_uid,np.array(c))\n",
    "     "
   ]
  },
  {
   "cell_type": "code",
   "execution_count": 155,
   "metadata": {
    "collapsed": true
   },
   "outputs": [],
   "source": [
    "\n"
   ]
  },
  {
   "cell_type": "code",
   "execution_count": 137,
   "metadata": {
    "collapsed": false
   },
   "outputs": [
    {
     "data": {
      "text/plain": [
       "(8, 64, 64, 64)"
      ]
     },
     "execution_count": 137,
     "metadata": {},
     "output_type": "execute_result"
    }
   ],
   "source": []
  },
  {
   "cell_type": "code",
   "execution_count": 133,
   "metadata": {
    "collapsed": false
   },
   "outputs": [],
   "source": [
    "for i in range(275):\n",
    "    if chunk[i].shape!=(64,64,64):\n",
    "        print i\n",
    "#     print chunk[i].shape"
   ]
  },
  {
   "cell_type": "code",
   "execution_count": 28,
   "metadata": {
    "collapsed": false
   },
   "outputs": [],
   "source": [
    "train_metadata = pd.read_csv(repo_dir+\"train-metadata.csv\",header=False)"
   ]
  },
  {
   "cell_type": "code",
   "execution_count": 56,
   "metadata": {
    "collapsed": false
   },
   "outputs": [
    {
     "data": {
      "text/html": [
       "<div>\n",
       "<table border=\"1\" class=\"dataframe\">\n",
       "  <thead>\n",
       "    <tr style=\"text-align: right;\">\n",
       "      <th></th>\n",
       "      <th>uid</th>\n",
       "      <th>flag</th>\n",
       "      <th>z_len</th>\n",
       "      <th>y_len</th>\n",
       "      <th>x_len</th>\n",
       "    </tr>\n",
       "  </thead>\n",
       "  <tbody>\n",
       "    <tr>\n",
       "      <th>0</th>\n",
       "      <td>1.3.6.1.4.1.14519.5.2.1.6279.6001.139258777898...</td>\n",
       "      <td>1</td>\n",
       "      <td>264</td>\n",
       "      <td>199</td>\n",
       "      <td>256</td>\n",
       "    </tr>\n",
       "    <tr>\n",
       "      <th>1</th>\n",
       "      <td>1.3.6.1.4.1.14519.5.2.1.6279.6001.458525794434...</td>\n",
       "      <td>1</td>\n",
       "      <td>309</td>\n",
       "      <td>250</td>\n",
       "      <td>332</td>\n",
       "    </tr>\n",
       "    <tr>\n",
       "      <th>2</th>\n",
       "      <td>1.3.6.1.4.1.14519.5.2.1.6279.6001.296066944953...</td>\n",
       "      <td>0</td>\n",
       "      <td>298</td>\n",
       "      <td>185</td>\n",
       "      <td>263</td>\n",
       "    </tr>\n",
       "    <tr>\n",
       "      <th>3</th>\n",
       "      <td>1.3.6.1.4.1.14519.5.2.1.6279.6001.219254430927...</td>\n",
       "      <td>1</td>\n",
       "      <td>313</td>\n",
       "      <td>214</td>\n",
       "      <td>296</td>\n",
       "    </tr>\n",
       "    <tr>\n",
       "      <th>4</th>\n",
       "      <td>1.3.6.1.4.1.14519.5.2.1.6279.6001.219281726101...</td>\n",
       "      <td>1</td>\n",
       "      <td>263</td>\n",
       "      <td>266</td>\n",
       "      <td>315</td>\n",
       "    </tr>\n",
       "  </tbody>\n",
       "</table>\n",
       "</div>"
      ],
      "text/plain": [
       "                                                 uid  flag  z_len  y_len  \\\n",
       "0  1.3.6.1.4.1.14519.5.2.1.6279.6001.139258777898...     1    264    199   \n",
       "1  1.3.6.1.4.1.14519.5.2.1.6279.6001.458525794434...     1    309    250   \n",
       "2  1.3.6.1.4.1.14519.5.2.1.6279.6001.296066944953...     0    298    185   \n",
       "3  1.3.6.1.4.1.14519.5.2.1.6279.6001.219254430927...     1    313    214   \n",
       "4  1.3.6.1.4.1.14519.5.2.1.6279.6001.219281726101...     1    263    266   \n",
       "\n",
       "   x_len  \n",
       "0    256  \n",
       "1    332  \n",
       "2    263  \n",
       "3    296  \n",
       "4    315  "
      ]
     },
     "execution_count": 56,
     "metadata": {},
     "output_type": "execute_result"
    }
   ],
   "source": [
    "train_metadata.head()"
   ]
  },
  {
   "cell_type": "code",
   "execution_count": 26,
   "metadata": {
    "collapsed": false
   },
   "outputs": [],
   "source": [
    "labels = pd.read_csv(repo_dir+\"labels.csv\",header=False)"
   ]
  },
  {
   "cell_type": "code",
   "execution_count": 35,
   "metadata": {
    "collapsed": true
   },
   "outputs": [],
   "source": [
    "candidates = pd.read_csv(repo_dir+\"candidates.csv\",header=False)"
   ]
  },
  {
   "cell_type": "code",
   "execution_count": null,
   "metadata": {
    "collapsed": true
   },
   "outputs": [],
   "source": []
  },
  {
   "cell_type": "code",
   "execution_count": 62,
   "metadata": {
    "collapsed": false
   },
   "outputs": [],
   "source": [
    "pos_users = train_metadata[train_metadata['flag']==1]['uid']"
   ]
  },
  {
   "cell_type": "code",
   "execution_count": 28,
   "metadata": {
    "collapsed": false
   },
   "outputs": [
    {
     "data": {
      "text/plain": [
       "count    5739.000000\n",
       "mean        7.641462\n",
       "std         4.619960\n",
       "min         2.032223\n",
       "25%         4.700212\n",
       "50%         5.998413\n",
       "75%         8.793915\n",
       "max        38.147699\n",
       "Name: diam, dtype: float64"
      ]
     },
     "execution_count": 28,
     "metadata": {},
     "output_type": "execute_result"
    }
   ],
   "source": [
    "labels[labels['flag']==1.0]['diam'].describe()"
   ]
  },
  {
   "cell_type": "code",
   "execution_count": 38,
   "metadata": {
    "collapsed": false
   },
   "outputs": [
    {
     "data": {
      "text/html": [
       "<div>\n",
       "<table border=\"1\" class=\"dataframe\">\n",
       "  <thead>\n",
       "    <tr style=\"text-align: right;\">\n",
       "      <th></th>\n",
       "      <th>uid</th>\n",
       "      <th>flag</th>\n",
       "      <th>z</th>\n",
       "      <th>y</th>\n",
       "      <th>x</th>\n",
       "      <th>diam</th>\n",
       "      <th>vol</th>\n",
       "    </tr>\n",
       "  </thead>\n",
       "  <tbody>\n",
       "    <tr>\n",
       "      <th>133</th>\n",
       "      <td>1.3.6.1.4.1.14519.5.2.1.6279.6001.227962600322...</td>\n",
       "      <td>1</td>\n",
       "      <td>218</td>\n",
       "      <td>87</td>\n",
       "      <td>179</td>\n",
       "      <td>20.458553</td>\n",
       "      <td>4483.563937</td>\n",
       "    </tr>\n",
       "    <tr>\n",
       "      <th>142</th>\n",
       "      <td>1.3.6.1.4.1.14519.5.2.1.6279.6001.287966244644...</td>\n",
       "      <td>1</td>\n",
       "      <td>184</td>\n",
       "      <td>185</td>\n",
       "      <td>234</td>\n",
       "      <td>32.427328</td>\n",
       "      <td>17853.859336</td>\n",
       "    </tr>\n",
       "    <tr>\n",
       "      <th>146</th>\n",
       "      <td>1.3.6.1.4.1.14519.5.2.1.6279.6001.287966244644...</td>\n",
       "      <td>1</td>\n",
       "      <td>184</td>\n",
       "      <td>186</td>\n",
       "      <td>234</td>\n",
       "      <td>32.286268</td>\n",
       "      <td>17621.877172</td>\n",
       "    </tr>\n",
       "    <tr>\n",
       "      <th>147</th>\n",
       "      <td>1.3.6.1.4.1.14519.5.2.1.6279.6001.287966244644...</td>\n",
       "      <td>1</td>\n",
       "      <td>99</td>\n",
       "      <td>145</td>\n",
       "      <td>153</td>\n",
       "      <td>31.791741</td>\n",
       "      <td>16824.476720</td>\n",
       "    </tr>\n",
       "    <tr>\n",
       "      <th>152</th>\n",
       "      <td>1.3.6.1.4.1.14519.5.2.1.6279.6001.287966244644...</td>\n",
       "      <td>1</td>\n",
       "      <td>184</td>\n",
       "      <td>185</td>\n",
       "      <td>234</td>\n",
       "      <td>32.270030</td>\n",
       "      <td>17595.302588</td>\n",
       "    </tr>\n",
       "    <tr>\n",
       "      <th>421</th>\n",
       "      <td>1.3.6.1.4.1.14519.5.2.1.6279.6001.194632613233...</td>\n",
       "      <td>1</td>\n",
       "      <td>190</td>\n",
       "      <td>66</td>\n",
       "      <td>78</td>\n",
       "      <td>20.159984</td>\n",
       "      <td>4290.117137</td>\n",
       "    </tr>\n",
       "    <tr>\n",
       "      <th>516</th>\n",
       "      <td>1.3.6.1.4.1.14519.5.2.1.6279.6001.619372068417...</td>\n",
       "      <td>1</td>\n",
       "      <td>211</td>\n",
       "      <td>176</td>\n",
       "      <td>203</td>\n",
       "      <td>23.322219</td>\n",
       "      <td>6642.143256</td>\n",
       "    </tr>\n",
       "    <tr>\n",
       "      <th>517</th>\n",
       "      <td>1.3.6.1.4.1.14519.5.2.1.6279.6001.619372068417...</td>\n",
       "      <td>1</td>\n",
       "      <td>211</td>\n",
       "      <td>175</td>\n",
       "      <td>203</td>\n",
       "      <td>24.084649</td>\n",
       "      <td>7315.088670</td>\n",
       "    </tr>\n",
       "    <tr>\n",
       "      <th>575</th>\n",
       "      <td>1.3.6.1.4.1.14519.5.2.1.6279.6001.487745546557...</td>\n",
       "      <td>1</td>\n",
       "      <td>248</td>\n",
       "      <td>95</td>\n",
       "      <td>204</td>\n",
       "      <td>23.062884</td>\n",
       "      <td>6423.022503</td>\n",
       "    </tr>\n",
       "    <tr>\n",
       "      <th>576</th>\n",
       "      <td>1.3.6.1.4.1.14519.5.2.1.6279.6001.487745546557...</td>\n",
       "      <td>1</td>\n",
       "      <td>248</td>\n",
       "      <td>95</td>\n",
       "      <td>204</td>\n",
       "      <td>24.106843</td>\n",
       "      <td>7335.329651</td>\n",
       "    </tr>\n",
       "    <tr>\n",
       "      <th>577</th>\n",
       "      <td>1.3.6.1.4.1.14519.5.2.1.6279.6001.487745546557...</td>\n",
       "      <td>1</td>\n",
       "      <td>248</td>\n",
       "      <td>95</td>\n",
       "      <td>204</td>\n",
       "      <td>24.401001</td>\n",
       "      <td>7607.142207</td>\n",
       "    </tr>\n",
       "    <tr>\n",
       "      <th>578</th>\n",
       "      <td>1.3.6.1.4.1.14519.5.2.1.6279.6001.487745546557...</td>\n",
       "      <td>1</td>\n",
       "      <td>248</td>\n",
       "      <td>95</td>\n",
       "      <td>204</td>\n",
       "      <td>22.781527</td>\n",
       "      <td>6190.804882</td>\n",
       "    </tr>\n",
       "    <tr>\n",
       "      <th>588</th>\n",
       "      <td>1.3.6.1.4.1.14519.5.2.1.6279.6001.219618492426...</td>\n",
       "      <td>1</td>\n",
       "      <td>125</td>\n",
       "      <td>34</td>\n",
       "      <td>84</td>\n",
       "      <td>25.248733</td>\n",
       "      <td>8427.861613</td>\n",
       "    </tr>\n",
       "    <tr>\n",
       "      <th>590</th>\n",
       "      <td>1.3.6.1.4.1.14519.5.2.1.6279.6001.219618492426...</td>\n",
       "      <td>1</td>\n",
       "      <td>125</td>\n",
       "      <td>34</td>\n",
       "      <td>84</td>\n",
       "      <td>25.850155</td>\n",
       "      <td>9044.573365</td>\n",
       "    </tr>\n",
       "    <tr>\n",
       "      <th>593</th>\n",
       "      <td>1.3.6.1.4.1.14519.5.2.1.6279.6001.219618492426...</td>\n",
       "      <td>1</td>\n",
       "      <td>125</td>\n",
       "      <td>34</td>\n",
       "      <td>84</td>\n",
       "      <td>25.415405</td>\n",
       "      <td>8595.868038</td>\n",
       "    </tr>\n",
       "    <tr>\n",
       "      <th>641</th>\n",
       "      <td>1.3.6.1.4.1.14519.5.2.1.6279.6001.271307051432...</td>\n",
       "      <td>1</td>\n",
       "      <td>57</td>\n",
       "      <td>70</td>\n",
       "      <td>268</td>\n",
       "      <td>20.462999</td>\n",
       "      <td>4486.487590</td>\n",
       "    </tr>\n",
       "    <tr>\n",
       "      <th>642</th>\n",
       "      <td>1.3.6.1.4.1.14519.5.2.1.6279.6001.271307051432...</td>\n",
       "      <td>1</td>\n",
       "      <td>57</td>\n",
       "      <td>69</td>\n",
       "      <td>268</td>\n",
       "      <td>20.376842</td>\n",
       "      <td>4430.056377</td>\n",
       "    </tr>\n",
       "    <tr>\n",
       "      <th>643</th>\n",
       "      <td>1.3.6.1.4.1.14519.5.2.1.6279.6001.271307051432...</td>\n",
       "      <td>1</td>\n",
       "      <td>57</td>\n",
       "      <td>69</td>\n",
       "      <td>269</td>\n",
       "      <td>21.179910</td>\n",
       "      <td>4974.746704</td>\n",
       "    </tr>\n",
       "    <tr>\n",
       "      <th>644</th>\n",
       "      <td>1.3.6.1.4.1.14519.5.2.1.6279.6001.271307051432...</td>\n",
       "      <td>1</td>\n",
       "      <td>57</td>\n",
       "      <td>70</td>\n",
       "      <td>269</td>\n",
       "      <td>20.389225</td>\n",
       "      <td>4438.137841</td>\n",
       "    </tr>\n",
       "    <tr>\n",
       "      <th>685</th>\n",
       "      <td>1.3.6.1.4.1.14519.5.2.1.6279.6001.300136985030...</td>\n",
       "      <td>1</td>\n",
       "      <td>69</td>\n",
       "      <td>72</td>\n",
       "      <td>246</td>\n",
       "      <td>21.963757</td>\n",
       "      <td>5547.771081</td>\n",
       "    </tr>\n",
       "  </tbody>\n",
       "</table>\n",
       "</div>"
      ],
      "text/plain": [
       "                                                   uid  flag    z    y    x  \\\n",
       "133  1.3.6.1.4.1.14519.5.2.1.6279.6001.227962600322...     1  218   87  179   \n",
       "142  1.3.6.1.4.1.14519.5.2.1.6279.6001.287966244644...     1  184  185  234   \n",
       "146  1.3.6.1.4.1.14519.5.2.1.6279.6001.287966244644...     1  184  186  234   \n",
       "147  1.3.6.1.4.1.14519.5.2.1.6279.6001.287966244644...     1   99  145  153   \n",
       "152  1.3.6.1.4.1.14519.5.2.1.6279.6001.287966244644...     1  184  185  234   \n",
       "421  1.3.6.1.4.1.14519.5.2.1.6279.6001.194632613233...     1  190   66   78   \n",
       "516  1.3.6.1.4.1.14519.5.2.1.6279.6001.619372068417...     1  211  176  203   \n",
       "517  1.3.6.1.4.1.14519.5.2.1.6279.6001.619372068417...     1  211  175  203   \n",
       "575  1.3.6.1.4.1.14519.5.2.1.6279.6001.487745546557...     1  248   95  204   \n",
       "576  1.3.6.1.4.1.14519.5.2.1.6279.6001.487745546557...     1  248   95  204   \n",
       "577  1.3.6.1.4.1.14519.5.2.1.6279.6001.487745546557...     1  248   95  204   \n",
       "578  1.3.6.1.4.1.14519.5.2.1.6279.6001.487745546557...     1  248   95  204   \n",
       "588  1.3.6.1.4.1.14519.5.2.1.6279.6001.219618492426...     1  125   34   84   \n",
       "590  1.3.6.1.4.1.14519.5.2.1.6279.6001.219618492426...     1  125   34   84   \n",
       "593  1.3.6.1.4.1.14519.5.2.1.6279.6001.219618492426...     1  125   34   84   \n",
       "641  1.3.6.1.4.1.14519.5.2.1.6279.6001.271307051432...     1   57   70  268   \n",
       "642  1.3.6.1.4.1.14519.5.2.1.6279.6001.271307051432...     1   57   69  268   \n",
       "643  1.3.6.1.4.1.14519.5.2.1.6279.6001.271307051432...     1   57   69  269   \n",
       "644  1.3.6.1.4.1.14519.5.2.1.6279.6001.271307051432...     1   57   70  269   \n",
       "685  1.3.6.1.4.1.14519.5.2.1.6279.6001.300136985030...     1   69   72  246   \n",
       "\n",
       "          diam           vol  \n",
       "133  20.458553   4483.563937  \n",
       "142  32.427328  17853.859336  \n",
       "146  32.286268  17621.877172  \n",
       "147  31.791741  16824.476720  \n",
       "152  32.270030  17595.302588  \n",
       "421  20.159984   4290.117137  \n",
       "516  23.322219   6642.143256  \n",
       "517  24.084649   7315.088670  \n",
       "575  23.062884   6423.022503  \n",
       "576  24.106843   7335.329651  \n",
       "577  24.401001   7607.142207  \n",
       "578  22.781527   6190.804882  \n",
       "588  25.248733   8427.861613  \n",
       "590  25.850155   9044.573365  \n",
       "593  25.415405   8595.868038  \n",
       "641  20.462999   4486.487590  \n",
       "642  20.376842   4430.056377  \n",
       "643  21.179910   4974.746704  \n",
       "644  20.389225   4438.137841  \n",
       "685  21.963757   5547.771081  "
      ]
     },
     "execution_count": 38,
     "metadata": {},
     "output_type": "execute_result"
    }
   ],
   "source": [
    "labels[(labels['flag']==1.0) & (labels['diam']>20)].head(20)"
   ]
  },
  {
   "cell_type": "code",
   "execution_count": 51,
   "metadata": {
    "collapsed": false
   },
   "outputs": [
    {
     "data": {
      "text/plain": [
       "175"
      ]
     },
     "execution_count": 51,
     "metadata": {},
     "output_type": "execute_result"
    }
   ],
   "source": [
    "len(set(labels['uid'])-set(train_metadata['uid']))"
   ]
  },
  {
   "cell_type": "code",
   "execution_count": 32,
   "metadata": {
    "collapsed": false
   },
   "outputs": [
    {
     "data": {
      "text/html": [
       "<div>\n",
       "<table border=\"1\" class=\"dataframe\">\n",
       "  <thead>\n",
       "    <tr style=\"text-align: right;\">\n",
       "      <th></th>\n",
       "      <th>uid</th>\n",
       "      <th>x</th>\n",
       "      <th>y</th>\n",
       "      <th>z</th>\n",
       "      <th>diam</th>\n",
       "    </tr>\n",
       "  </thead>\n",
       "  <tbody>\n",
       "    <tr>\n",
       "      <th>0</th>\n",
       "      <td>1.3.6.1.4.1.14519.5.2.1.6279.6001.100225287222...</td>\n",
       "      <td>68.420000</td>\n",
       "      <td>-74.480000</td>\n",
       "      <td>-288.700000</td>\n",
       "      <td>0</td>\n",
       "    </tr>\n",
       "    <tr>\n",
       "      <th>1</th>\n",
       "      <td>1.3.6.1.4.1.14519.5.2.1.6279.6001.100225287222...</td>\n",
       "      <td>-95.209361</td>\n",
       "      <td>-91.809406</td>\n",
       "      <td>-377.426350</td>\n",
       "      <td>0</td>\n",
       "    </tr>\n",
       "    <tr>\n",
       "      <th>2</th>\n",
       "      <td>1.3.6.1.4.1.14519.5.2.1.6279.6001.100225287222...</td>\n",
       "      <td>-24.766755</td>\n",
       "      <td>-120.379294</td>\n",
       "      <td>-273.361539</td>\n",
       "      <td>0</td>\n",
       "    </tr>\n",
       "    <tr>\n",
       "      <th>3</th>\n",
       "      <td>1.3.6.1.4.1.14519.5.2.1.6279.6001.100225287222...</td>\n",
       "      <td>-63.080000</td>\n",
       "      <td>-65.740000</td>\n",
       "      <td>-344.240000</td>\n",
       "      <td>0</td>\n",
       "    </tr>\n",
       "    <tr>\n",
       "      <th>4</th>\n",
       "      <td>1.3.6.1.4.1.14519.5.2.1.6279.6001.100225287222...</td>\n",
       "      <td>52.946688</td>\n",
       "      <td>-92.688873</td>\n",
       "      <td>-241.067872</td>\n",
       "      <td>0</td>\n",
       "    </tr>\n",
       "  </tbody>\n",
       "</table>\n",
       "</div>"
      ],
      "text/plain": [
       "                                                 uid          x           y  \\\n",
       "0  1.3.6.1.4.1.14519.5.2.1.6279.6001.100225287222...  68.420000  -74.480000   \n",
       "1  1.3.6.1.4.1.14519.5.2.1.6279.6001.100225287222... -95.209361  -91.809406   \n",
       "2  1.3.6.1.4.1.14519.5.2.1.6279.6001.100225287222... -24.766755 -120.379294   \n",
       "3  1.3.6.1.4.1.14519.5.2.1.6279.6001.100225287222... -63.080000  -65.740000   \n",
       "4  1.3.6.1.4.1.14519.5.2.1.6279.6001.100225287222...  52.946688  -92.688873   \n",
       "\n",
       "            z  diam  \n",
       "0 -288.700000     0  \n",
       "1 -377.426350     0  \n",
       "2 -273.361539     0  \n",
       "3 -344.240000     0  \n",
       "4 -241.067872     0  "
      ]
     },
     "execution_count": 32,
     "metadata": {},
     "output_type": "execute_result"
    }
   ],
   "source": [
    "candidates.head()"
   ]
  },
  {
   "cell_type": "code",
   "execution_count": 37,
   "metadata": {
    "collapsed": false
   },
   "outputs": [
    {
     "data": {
      "text/html": [
       "<div>\n",
       "<table border=\"1\" class=\"dataframe\">\n",
       "  <thead>\n",
       "    <tr style=\"text-align: right;\">\n",
       "      <th></th>\n",
       "      <th>uid</th>\n",
       "      <th>flag</th>\n",
       "      <th>z</th>\n",
       "      <th>y</th>\n",
       "      <th>x</th>\n",
       "      <th>diam</th>\n",
       "      <th>vol</th>\n",
       "    </tr>\n",
       "  </thead>\n",
       "  <tbody>\n",
       "    <tr>\n",
       "      <th>0</th>\n",
       "      <td>1.3.6.1.4.1.14519.5.2.1.6279.6001.139258777898...</td>\n",
       "      <td>0</td>\n",
       "      <td>99</td>\n",
       "      <td>118</td>\n",
       "      <td>40</td>\n",
       "      <td>0</td>\n",
       "      <td>0</td>\n",
       "    </tr>\n",
       "    <tr>\n",
       "      <th>1</th>\n",
       "      <td>1.3.6.1.4.1.14519.5.2.1.6279.6001.139258777898...</td>\n",
       "      <td>0</td>\n",
       "      <td>129</td>\n",
       "      <td>86</td>\n",
       "      <td>88</td>\n",
       "      <td>0</td>\n",
       "      <td>0</td>\n",
       "    </tr>\n",
       "    <tr>\n",
       "      <th>2</th>\n",
       "      <td>1.3.6.1.4.1.14519.5.2.1.6279.6001.139258777898...</td>\n",
       "      <td>0</td>\n",
       "      <td>151</td>\n",
       "      <td>132</td>\n",
       "      <td>189</td>\n",
       "      <td>0</td>\n",
       "      <td>0</td>\n",
       "    </tr>\n",
       "    <tr>\n",
       "      <th>3</th>\n",
       "      <td>1.3.6.1.4.1.14519.5.2.1.6279.6001.139258777898...</td>\n",
       "      <td>0</td>\n",
       "      <td>97</td>\n",
       "      <td>173</td>\n",
       "      <td>69</td>\n",
       "      <td>0</td>\n",
       "      <td>0</td>\n",
       "    </tr>\n",
       "    <tr>\n",
       "      <th>4</th>\n",
       "      <td>1.3.6.1.4.1.14519.5.2.1.6279.6001.139258777898...</td>\n",
       "      <td>0</td>\n",
       "      <td>224</td>\n",
       "      <td>103</td>\n",
       "      <td>67</td>\n",
       "      <td>0</td>\n",
       "      <td>0</td>\n",
       "    </tr>\n",
       "  </tbody>\n",
       "</table>\n",
       "</div>"
      ],
      "text/plain": [
       "                                                 uid  flag    z    y    x  \\\n",
       "0  1.3.6.1.4.1.14519.5.2.1.6279.6001.139258777898...     0   99  118   40   \n",
       "1  1.3.6.1.4.1.14519.5.2.1.6279.6001.139258777898...     0  129   86   88   \n",
       "2  1.3.6.1.4.1.14519.5.2.1.6279.6001.139258777898...     0  151  132  189   \n",
       "3  1.3.6.1.4.1.14519.5.2.1.6279.6001.139258777898...     0   97  173   69   \n",
       "4  1.3.6.1.4.1.14519.5.2.1.6279.6001.139258777898...     0  224  103   67   \n",
       "\n",
       "   diam  vol  \n",
       "0     0    0  \n",
       "1     0    0  \n",
       "2     0    0  \n",
       "3     0    0  \n",
       "4     0    0  "
      ]
     },
     "execution_count": 37,
     "metadata": {},
     "output_type": "execute_result"
    }
   ],
   "source": [
    "candidates.head()"
   ]
  },
  {
   "cell_type": "code",
   "execution_count": 63,
   "metadata": {
    "collapsed": false
   },
   "outputs": [
    {
     "data": {
      "text/plain": [
       "3674"
      ]
     },
     "execution_count": 63,
     "metadata": {},
     "output_type": "execute_result"
    }
   ],
   "source": [
    "labels[labels['uid'].isin(pos_users)].shape[0]\n"
   ]
  },
  {
   "cell_type": "code",
   "execution_count": 65,
   "metadata": {
    "collapsed": false
   },
   "outputs": [
    {
     "data": {
      "text/plain": [
       "1    4580\n",
       "0    3359\n",
       "dtype: int64"
      ]
     },
     "execution_count": 65,
     "metadata": {},
     "output_type": "execute_result"
    }
   ],
   "source": [
    "labels.flag.value_counts()"
   ]
  },
  {
   "cell_type": "code",
   "execution_count": null,
   "metadata": {
    "collapsed": true
   },
   "outputs": [],
   "source": []
  }
 ],
 "metadata": {
  "kernelspec": {
   "display_name": "Python 2",
   "language": "python",
   "name": "python2"
  },
  "language_info": {
   "codemirror_mode": {
    "name": "ipython",
    "version": 2
   },
   "file_extension": ".py",
   "mimetype": "text/x-python",
   "name": "python",
   "nbconvert_exporter": "python",
   "pygments_lexer": "ipython2",
   "version": "2.7.10"
  }
 },
 "nbformat": 4,
 "nbformat_minor": 0
}
